{
 "cells": [
  {
   "cell_type": "code",
   "execution_count": 2,
   "id": "42e17178-1a9e-4134-82fb-f8255780a137",
   "metadata": {},
   "outputs": [],
   "source": [
    "import os\n",
    "from dotenv import load_dotenv\n",
    "\n",
    "load_dotenv(verbose=True)\n",
    "OPENAI_API_KEY = os.getenv(\"OPEN_API_KEY\")"
   ]
  },
  {
   "cell_type": "code",
   "execution_count": 3,
   "id": "06251eb1-3f6e-4820-adfc-93863dba7cd2",
   "metadata": {},
   "outputs": [],
   "source": [
    "from langchain_openai import ChatOpenAI\n",
    "\n",
    "llm = ChatOpenAI(openai_api_key=OPENAI_API_KEY)"
   ]
  },
  {
   "cell_type": "code",
   "execution_count": 4,
   "id": "cbfe560a-2163-406c-92f1-c5c96c5a66af",
   "metadata": {},
   "outputs": [
    {
     "data": {
      "text/plain": [
       "AIMessage(content='Langsmith can help with testing in the following ways:\\n\\n1. Automated testing: Langsmith can be used to write automated test scripts that can be run repeatedly to check for bugs or errors in the code.\\n\\n2. Unit testing: Langsmith can be used to write unit tests for individual components of the code to ensure that they are working as expected.\\n\\n3. Integration testing: Langsmith can be used to write integration tests to check that different components of the code work together correctly.\\n\\n4. Performance testing: Langsmith can be used to write performance tests to evaluate the speed and efficiency of the code.\\n\\n5. Regression testing: Langsmith can be used to write regression tests to ensure that new code changes do not introduce new bugs or issues in the existing code.\\n\\nOverall, Langsmith can help streamline the testing process, improve test coverage, and ensure the quality and reliability of the code.', response_metadata={'finish_reason': 'stop', 'logprobs': None})"
      ]
     },
     "execution_count": 4,
     "metadata": {},
     "output_type": "execute_result"
    }
   ],
   "source": [
    "llm.invoke(\"how can langsmith help with testing?\")"
   ]
  },
  {
   "cell_type": "code",
   "execution_count": null,
   "id": "813baf1a-4b9d-423b-b3e8-c6ae860510a0",
   "metadata": {},
   "outputs": [],
   "source": [
    "from langchain_core.prompts import ChatPromptTemplate\n",
    "prompt = ChatPromptTemplate.from_messages"
   ]
  }
 ],
 "metadata": {
  "kernelspec": {
   "display_name": "Python 3 (ipykernel)",
   "language": "python",
   "name": "python3"
  },
  "language_info": {
   "codemirror_mode": {
    "name": "ipython",
    "version": 3
   },
   "file_extension": ".py",
   "mimetype": "text/x-python",
   "name": "python",
   "nbconvert_exporter": "python",
   "pygments_lexer": "ipython3",
   "version": "3.8.9"
  }
 },
 "nbformat": 4,
 "nbformat_minor": 5
}
